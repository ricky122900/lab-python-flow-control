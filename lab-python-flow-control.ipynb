{
 "cells": [
  {
   "cell_type": "markdown",
   "id": "d3bfc191-8885-42ee-b0a0-bbab867c6f9f",
   "metadata": {
    "tags": []
   },
   "source": [
    "# Lab | Flow Control"
   ]
  },
  {
   "cell_type": "markdown",
   "id": "3851fcd1-cf98-4653-9c89-e003b7ec9400",
   "metadata": {},
   "source": [
    "## Exercise: Managing Customer Orders Optimized\n",
    "\n",
    "In the last lab, you were starting an online store that sells various products. To ensure smooth operations, you developed a program that manages customer orders and inventory.\n",
    "\n",
    "You did so without using flow control. Let's go a step further and improve this code.\n",
    "\n",
    "Follow the steps below to complete the exercise:\n",
    "\n",
    "1. Look at your code from the lab data structures, and improve repeated code with loops.\n",
    "\n",
    "2. Instead of asking the user to input the name of three products that a customer wants to order, do the following:\n",
    "    \n",
    "    a. Prompt the user to enter the name of a product that a customer wants to order.\n",
    "    \n",
    "    b. Add the product name to the \"customer_orders\" set.\n",
    "    \n",
    "    c. Ask the user if they want to add another product (yes/no).\n",
    "    \n",
    "    d. Continue the loop until the user does not want to add another product.\n",
    "\n",
    "3. Instead of updating the inventory by subtracting 1 from the quantity of each product, only do it for  the products that were ordered (those in \"customer_orders\")."
   ]
  },
  {
   "cell_type": "code",
   "execution_count": null,
   "id": "8c6af656-73f4-4f30-b4d8-5d1da1314678",
   "metadata": {},
   "outputs": [],
   "source": [
    "# Define a list of available products.\n",
    "products = [\"t-shirt\", \"mug\", \"hat\", \"book\", \"keychain\"]\n",
    "\n",
    "# Initialize an empty dictionary that will store the inventory of each product.\n",
    "inventory = {}\n",
    "\n",
    "# This loop iterates over each product in the list \"products\" and prompts the user to input the quantity of each product available. \n",
    "# It then stores this quantity in the \"inventory\" dictionary with the product as the key.\n",
    "for product in products:\n",
    "    inventory[product] = int(input(f\"Enter the quantity of {product}s available: \"))\n",
    "\n",
    "# Initializes an empty dictionary that will store the customer orders.\n",
    "customer_orders = {}\n",
    "\n",
    "while True:\n",
    "    product = input(\"Enter a product you want to order: \").lower()\n",
    "    \n",
    "    # Check if the product is in inventory\n",
    "    if product not in inventory:\n",
    "        print(\"Sorry, that product is not available.\")\n",
    "        continue\n",
    "    \n",
    "    # Check if the ordered quantity exceeds inventory\n",
    "    quantity = int(input(f\"Enter the quantity of {product}s you want to order: \"))\n",
    "    if quantity > inventory[product]:\n",
    "        print(\"Sorry, the quantity you entered exceeds the available inventory.\")\n",
    "        continue\n",
    "    \n",
    "    # Update customer_orders\n",
    "    if product in customer_orders:\n",
    "        customer_orders[product] += quantity\n",
    "    else:\n",
    "        customer_orders[product] = quantity\n",
    "    \n",
    "    another = input(\"Do you want to add another product? (yes/no): \").lower()\n",
    "    if another != \"yes\":\n",
    "        break\n",
    "\n",
    "# Prints out the products the customer has ordered along with their respective quantities.\n",
    "print(\"Products in the customer's order:\")\n",
    "for product, quantity in customer_orders.items():\n",
    "    print(f\"{product.capitalize()}: {quantity}\")\n",
    "\n",
    "print(\"-------------------------------------------\")\n",
    "\n",
    "# These lines calculate the total number of products ordered and the total number of products available in the inventory. \n",
    "# Then, it calculates the percentage of products ordered.\n",
    "total_products_ordered = sum(customer_orders.values())\n",
    "total_products_available = sum(inventory.values())\n",
    "percentage_ordered = (total_products_ordered / total_products_available) * 100\n",
    "\n",
    "# Prints out the order statistics.\n",
    "print(\"Order Statistics:\")\n",
    "print(f\"Total Products Ordered: {total_products_ordered}\")\n",
    "print(f\"Percentage of Products Ordered: {percentage_ordered}%\")\n",
    "\n",
    "print(\"-------------------------------------------\")\n",
    "\n",
    "# This loop prints out the updated inventory after deducting the quantities of products ordered by the customer. \n",
    "# It subtracts the ordered quantities from the available inventory and then prints out the remaining quantities for each product.\n",
    "print(\"Updated Inventory:\")\n",
    "for product, quantity in inventory.items():\n",
    "    if product in customer_orders:\n",
    "        inventory[product] -= customer_orders[product]\n",
    "    print(f\"{product.capitalize()}: {inventory[product]}\")"
   ]
  }
 ],
 "metadata": {
  "kernelspec": {
   "display_name": "Python 3 (ipykernel)",
   "language": "python",
   "name": "python3"
  },
  "language_info": {
   "codemirror_mode": {
    "name": "ipython",
    "version": 3
   },
   "file_extension": ".py",
   "mimetype": "text/x-python",
   "name": "python",
   "nbconvert_exporter": "python",
   "pygments_lexer": "ipython3",
   "version": "3.12.3"
  }
 },
 "nbformat": 4,
 "nbformat_minor": 5
}
